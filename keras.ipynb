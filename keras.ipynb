{
 "cells": [
  {
   "cell_type": "code",
   "execution_count": 98,
   "metadata": {},
   "outputs": [],
   "source": [
    "import keras\n",
    "from keras.datasets import boston_housing\n",
    "from keras.layers import Activation, Dense, Dropout, Input\n",
    "from keras.models import Sequential, Model\n",
    "from keras.optimizers import RMSprop, Adam\n",
    "from sklearn.model_selection import KFold\n",
    "import numpy as np\n",
    "import matplotlib.pyplot as plt"
   ]
  },
  {
   "cell_type": "code",
   "execution_count": 214,
   "metadata": {},
   "outputs": [],
   "source": [
    "(x_train, y_train), (x_test, y_test) = boston_housing.load_data()"
   ]
  },
  {
   "cell_type": "code",
   "execution_count": 281,
   "metadata": {},
   "outputs": [],
   "source": [
    "batch_size = 8\n",
    "epochs = 5"
   ]
  },
  {
   "cell_type": "code",
   "execution_count": 282,
   "metadata": {},
   "outputs": [
    {
     "name": "stdout",
     "output_type": "stream",
     "text": [
      "_________________________________________________________________\n",
      "Layer (type)                 Output Shape              Param #   \n",
      "=================================================================\n",
      "input_32 (InputLayer)        (None, 13)                0         \n",
      "_________________________________________________________________\n",
      "dense_190 (Dense)            (None, 512)               7168      \n",
      "_________________________________________________________________\n",
      "dense_191 (Dense)            (None, 512)               262656    \n",
      "_________________________________________________________________\n",
      "dense_192 (Dense)            (None, 1)                 513       \n",
      "=================================================================\n",
      "Total params: 270,337\n",
      "Trainable params: 270,337\n",
      "Non-trainable params: 0\n",
      "_________________________________________________________________\n"
     ]
    }
   ],
   "source": [
    "inputs = Input(shape=(13,))\n",
    "node = Dense(512, activation='relu')(inputs)\n",
    "# node = Dropout(0.2)(node)\n",
    "node = Dense(512, activation='relu')(node)\n",
    "# node = Dropout(0.2)(node)\n",
    "node = Dense(1)(node)\n",
    "\n",
    "model = Model(inputs=inputs, outputs=node)\n",
    "model.summary()"
   ]
  },
  {
   "cell_type": "code",
   "execution_count": 186,
   "metadata": {},
   "outputs": [],
   "source": [
    "class BostonRegressionModel(keras.Model):\n",
    "    def __init__(self):\n",
    "        super(BostonRegressionModel, self).__init__(name='mlp')\n",
    "        \n",
    "        self.nodes = [\n",
    "            Dense(512, activation='relu'),\n",
    "            Dropout(0.2),\n",
    "            Dense(512, activation='relu'),\n",
    "            Dropout(0.2),\n",
    "            Dense(1)\n",
    "        ]\n",
    "        \n",
    "    def call(self, inputs):\n",
    "        x = inputs\n",
    "        for node in self.nodes:\n",
    "            x = node(x)\n",
    "            \n",
    "        return x"
   ]
  },
  {
   "cell_type": "code",
   "execution_count": 187,
   "metadata": {},
   "outputs": [],
   "source": [
    "model = BostonRegressionModel()"
   ]
  },
  {
   "cell_type": "code",
   "execution_count": 283,
   "metadata": {},
   "outputs": [],
   "source": [
    "model.compile(loss='mse',\n",
    "              optimizer='adam',\n",
    "              metrics=['mse'])"
   ]
  },
  {
   "cell_type": "code",
   "execution_count": 284,
   "metadata": {},
   "outputs": [
    {
     "name": "stdout",
     "output_type": "stream",
     "text": [
      "Processing fold  0\n",
      "Processing fold  1\n",
      "Processing fold  2\n",
      "Processing fold  3\n",
      "Processing fold  4\n",
      "Processing fold  5\n",
      "Processing fold  6\n",
      "Processing fold  7\n",
      "Processing fold  8\n",
      "Processing fold  9\n"
     ]
    }
   ],
   "source": [
    "kf = KFold(n_splits=10)\n",
    "fold = 0\n",
    "for train, test in kf.split(x_train, y_train):\n",
    "    print('Processing fold ', fold)\n",
    "    fold += 1\n",
    "    history = model.fit(x_train[train], y_train[train], \n",
    "                        batch_size=batch_size, \n",
    "                        epochs=epochs, \n",
    "                        verbose=0, \n",
    "                        validation_data=(x_train[test], y_train[test]))"
   ]
  },
  {
   "cell_type": "code",
   "execution_count": 285,
   "metadata": {},
   "outputs": [
    {
     "data": {
      "text/plain": [
       "[<matplotlib.lines.Line2D at 0x7fcf7443e240>]"
      ]
     },
     "execution_count": 285,
     "metadata": {},
     "output_type": "execute_result"
    },
    {
     "data": {
      "image/png": "[encoded data removed]",
      "text/plain": [
       "<Figure size 432x288 with 1 Axes>"
      ]
     },
     "metadata": {
      "needs_background": "light"
     },
     "output_type": "display_data"
    }
   ],
   "source": [
    "plt.plot(history.history['loss'])\n",
    "plt.plot(history.history['val_loss'])"
   ]
  },
  {
   "cell_type": "code",
   "execution_count": 286,
   "metadata": {},
   "outputs": [
    {
     "name": "stdout",
     "output_type": "stream",
     "text": [
      "Test loss: 30.21760274849686\n",
      "Test accuracy: 30.21760274849686\n"
     ]
    }
   ],
   "source": [
    "score = model.evaluate(x_test, y_test, verbose=0)\n",
    "print('Test loss:', score[0])\n",
    "print('Test accuracy:', score[1])"
   ]
  },
  {
   "cell_type": "code",
   "execution_count": null,
   "metadata": {},
   "outputs": [],
   "source": []
  }
 ],
 "metadata": {
  "kernelspec": {
   "display_name": "Python 3",
   "language": "python",
   "name": "python3"
  },
  "language_info": {
   "codemirror_mode": {
    "name": "ipython",
    "version": 3
   },
   "file_extension": ".py",
   "mimetype": "text/x-python",
   "name": "python",
   "nbconvert_exporter": "python",
   "pygments_lexer": "ipython3",
   "version": "3.7.1"
  }
 },
 "nbformat": 4,
 "nbformat_minor": 2
}
