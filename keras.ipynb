{
 "cells": [
  {
   "cell_type": "code",
   "execution_count": 1,
   "metadata": {},
   "outputs": [
    {
     "name": "stderr",
     "output_type": "stream",
     "text": [
      "Using TensorFlow backend.\n"
     ]
    }
   ],
   "source": [
    "import keras\n",
    "from keras.datasets import boston_housing\n",
    "from keras.layers import Activation, Dense, Dropout, Input\n",
    "from keras.models import Sequential, Model\n",
    "from keras.optimizers import RMSprop, Adam\n",
    "from sklearn.model_selection import KFold\n",
    "import numpy as np\n",
    "import matplotlib.pyplot as plt"
   ]
  },
  {
   "cell_type": "code",
   "execution_count": 2,
   "metadata": {},
   "outputs": [],
   "source": [
    "(x_train, y_train), (x_test, y_test) = boston_housing.load_data()"
   ]
  },
  {
   "cell_type": "code",
   "execution_count": 75,
   "metadata": {},
   "outputs": [],
   "source": [
    "batch_size = 8\n",
    "epochs = 200\n",
    "folds = 10"
   ]
  },
  {
   "cell_type": "code",
   "execution_count": 76,
   "metadata": {},
   "outputs": [],
   "source": [
    "class BostonRegressionModel(keras.Model):\n",
    "    def __init__(self):\n",
    "        super(BostonRegressionModel, self).__init__(name='mlp')\n",
    "        self.dense1 = Dense(512, activation='relu')\n",
    "        self.dense2 = Dense(512, activation='relu')\n",
    "        self.dense3 = Dense(1)\n",
    "        \n",
    "    def call(self, inputs):\n",
    "        x = self.dense1(inputs)\n",
    "        x = self.dense2(x)\n",
    "            \n",
    "        return self.dense3(x)"
   ]
  },
  {
   "cell_type": "code",
   "execution_count": 77,
   "metadata": {},
   "outputs": [],
   "source": [
    "models = [BostonRegressionModel() for i in range(folds)]"
   ]
  },
  {
   "cell_type": "code",
   "execution_count": 78,
   "metadata": {},
   "outputs": [],
   "source": [
    "for model in models:\n",
    "    model.compile(loss='mse',\n",
    "                  optimizer=Adam(lr=0.0001),\n",
    "                  metrics=['mse'])"
   ]
  },
  {
   "cell_type": "code",
   "execution_count": 79,
   "metadata": {},
   "outputs": [
    {
     "name": "stdout",
     "output_type": "stream",
     "text": [
      "Processing fold  0\n",
      "Processing fold  1\n",
      "Processing fold  2\n",
      "Processing fold  3\n",
      "Processing fold  4\n",
      "Processing fold  5\n",
      "Processing fold  6\n",
      "Processing fold  7\n",
      "Processing fold  8\n",
      "Processing fold  9\n"
     ]
    }
   ],
   "source": [
    "kf = KFold(n_splits=folds)\n",
    "fold = 0\n",
    "history = []\n",
    "for train, test in kf.split(x_train, y_train):\n",
    "    print('Processing fold ', fold)\n",
    "    history.append(models[fold].fit(x_train[train], y_train[train], \n",
    "                                    batch_size=batch_size, \n",
    "                                    epochs=epochs, \n",
    "                                    verbose=0, \n",
    "                                    validation_data=(x_train[test], y_train[test])))\n",
    "    fold += 1"
   ]
  },
  {
   "cell_type": "code",
   "execution_count": 80,
   "metadata": {},
   "outputs": [],
   "source": [
    "average_loss_hist = [i for i in history[0].history['loss']]\n",
    "average_val_loss_hist = [i for i in history[0].history['val_loss']]\n",
    "\n",
    "for i in range(1, len(history)):\n",
    "    for j in range(epochs):\n",
    "        average_loss_hist[j] += history[i].history['loss'][j]\n",
    "        average_val_loss_hist[j] += history[i].history['val_loss'][j]\n",
    "        \n",
    "for j in range(epochs):\n",
    "    average_loss_hist[j] /= folds\n",
    "    average_val_loss_hist[j] /= folds"
   ]
  },
  {
   "cell_type": "code",
   "execution_count": 81,
   "metadata": {},
   "outputs": [
    {
     "data": {
      "image/png": "[encoded data removed]",
      "text/plain": [
       "<Figure size 432x288 with 1 Axes>"
      ]
     },
     "metadata": {
      "needs_background": "light"
     },
     "output_type": "display_data"
    }
   ],
   "source": [
    "plt.plot(average_loss_hist, label='loss')\n",
    "plt.plot(average_val_loss_hist, label='val_loss')\n",
    "plt.legend()\n",
    "plt.grid()"
   ]
  },
  {
   "cell_type": "code",
   "execution_count": 82,
   "metadata": {},
   "outputs": [
    {
     "name": "stdout",
     "output_type": "stream",
     "text": [
      "Test loss: 30.077464750701306\n"
     ]
    }
   ],
   "source": [
    "scores = [model.evaluate(x_test, y_test, verbose=0) for model in models]\n",
    "score = 0\n",
    "for s in scores:\n",
    "    score += s[0]\n",
    "    \n",
    "score /= folds\n",
    "\n",
    "print('Test loss:', score)"
   ]
  },
  {
   "cell_type": "code",
   "execution_count": null,
   "metadata": {},
   "outputs": [],
   "source": []
  }
 ],
 "metadata": {
  "kernelspec": {
   "display_name": "Python 3",
   "language": "python",
   "name": "python3"
  },
  "language_info": {
   "codemirror_mode": {
    "name": "ipython",
    "version": 3
   },
   "file_extension": ".py",
   "mimetype": "text/x-python",
   "name": "python",
   "nbconvert_exporter": "python",
   "pygments_lexer": "ipython3",
   "version": "3.7.1"
  }
 },
 "nbformat": 4,
 "nbformat_minor": 2
}
